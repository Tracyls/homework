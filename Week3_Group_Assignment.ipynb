{
 "cells": [
  {
   "cell_type": "markdown",
   "metadata": {},
   "source": [
    "Task\n",
    "Create a function that accepts two values, a and b. Add code to print three lines where:\n",
    "The first line contains the sum of the two numbers.\n",
    "The second line contains the difference of the two numbers (first - second). The third line contains the product of the two numbers.\n",
    "Conditions:\n",
    "If any of the results are zero, print “zero” as the result instead of 0\n",
    "Note: be sure to include useful info printed out, not just the result.\n",
    "Example 0 a=3 b=5\n",
    "Print the following:\n",
    "A + b = 8\n",
    "A - b = -2\n",
    "A * b = 15\n",
    "Example 1 a=3 b=3\n",
    "Print the following:\n",
    "A + b = 6\n",
    "A - b = zero\n",
    "A * b = 9\n",
    "\n"
   ]
  },
  {
   "cell_type": "code",
   "execution_count": 21,
   "metadata": {
    "scrolled": true
   },
   "outputs": [
    {
     "name": "stdout",
     "output_type": "stream",
     "text": [
      "8\n",
      "-2\n",
      "15\n",
      "6\n",
      "Zero\n",
      "9\n"
     ]
    }
   ],
   "source": [
    "#create function\n",
    "def two_values(a,b):\n",
    "    #sum of two numbers\n",
    "    add = a + b\n",
    "    #difference of two numbers\n",
    "    sub = a - b\n",
    "    #product of two numbers\n",
    "    mult = a * b\n",
    "    #set up each variable to print \"Zero\" if the retun is 0, and return result if not.\n",
    "    if add == 0:\n",
    "        print(\"Zero\")\n",
    "    else: \n",
    "        print(add)\n",
    "    if sub == 0:\n",
    "        print(\"Zero\")\n",
    "    else:\n",
    "        print(sub)\n",
    "    if mult == 0:\n",
    "        print(\"Zero\")\n",
    "    else:\n",
    "        print(mult)\n",
    "        \n",
    "#call function with values for a and b.    \n",
    "two_values(3,5)\n",
    "two_values(3,3)"
   ]
  },
  {
   "cell_type": "code",
   "execution_count": null,
   "metadata": {},
   "outputs": [],
   "source": []
  }
 ],
 "metadata": {
  "kernelspec": {
   "display_name": "Python 3",
   "language": "python",
   "name": "python3"
  },
  "language_info": {
   "codemirror_mode": {
    "name": "ipython",
    "version": 3
   },
   "file_extension": ".py",
   "mimetype": "text/x-python",
   "name": "python",
   "nbconvert_exporter": "python",
   "pygments_lexer": "ipython3",
   "version": "3.8.5"
  }
 },
 "nbformat": 4,
 "nbformat_minor": 4
}
