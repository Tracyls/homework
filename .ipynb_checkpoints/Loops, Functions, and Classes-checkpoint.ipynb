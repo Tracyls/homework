{
 "cells": [
  {
   "cell_type": "markdown",
   "metadata": {},
   "source": [
    "# Week 3 In-Class: Loops, Functions, and Classes\n",
    "\n",
    "In this notebook, you'll get some practice with the material you've been reading about, practicing, and discussing in class. Please don't change anything in the cells that say \"Don't change anything in this cell.\" Otherwise, fill in the cells with code to complete the assignments. Good luck!"
   ]
  },
  {
   "cell_type": "markdown",
   "metadata": {},
   "source": [
    "## Loops\n",
    "Let's practice loops. The first block of code is going to create a list of numbers from 1 to 30. You'll use that list in the first two problems."
   ]
  },
  {
   "cell_type": "code",
   "execution_count": 4,
   "metadata": {},
   "outputs": [],
   "source": [
    "# Don't change anything in this cell\n",
    "practice_list = list(range(1, 31))"
   ]
  },
  {
   "cell_type": "code",
   "execution_count": 2,
   "metadata": {},
   "outputs": [
    {
     "name": "stdout",
     "output_type": "stream",
     "text": [
      "ODD\n",
      "EVEN\n",
      "WEIRD\n",
      "EVEN\n",
      "ODD\n",
      "EVEN\n",
      "ODD\n",
      "EVEN\n",
      "WEIRD\n",
      "EVEN\n",
      "ODD\n",
      "EVEN\n",
      "ODD\n",
      "EVEN\n",
      "WEIRD\n",
      "EVEN\n",
      "ODD\n",
      "EVEN\n",
      "ODD\n",
      "EVEN\n",
      "WEIRD\n",
      "EVEN\n",
      "ODD\n",
      "EVEN\n",
      "ODD\n",
      "EVEN\n",
      "WEIRD\n",
      "EVEN\n",
      "ODD\n",
      "EVEN\n"
     ]
    }
   ],
   "source": [
    "# Problem 1\n",
    "# For every [number] in practice_list, do the following:\n",
    "# If the number is even, print '[number] is EVEN'\n",
    "# If the number is odd and not divisible by three, print '[number] is ODD'\n",
    "# If the number is odd and divisible by three, print '[number] is WEIRD'\n",
    "for number in range(1,31):\n",
    "    if number % 2 == 0:\n",
    "        print(\"EVEN\")\n",
    "    if number % 2 != 0 and number % 3 != 0:\n",
    "        print (\"ODD\")\n",
    "    elif number % 2 != 0 and number % 3 == 0:\n",
    "        print (\"WEIRD\")\n",
    "        \n",
    "        "
   ]
  },
  {
   "cell_type": "markdown",
   "metadata": {},
   "source": [
    "Hoopefully you had some fun playing with loops and if statements. In the next problem, you'll need to use a loop to count how many numbers are odd and how many are even in the list.\n",
    "\n",
    "For example, if the list was [1, 2, 3, 4, 5], you'd print:\n",
    "<br>Number of even numbers : 2\n",
    "<br>Number of odd numbers : 3\n",
    "\n",
    "Hint: you'll have to think about keeping a count of the odds and evens as you go through the loop, and print them out when you're done."
   ]
  },
  {
   "cell_type": "code",
   "execution_count": 5,
   "metadata": {},
   "outputs": [
    {
     "name": "stdout",
     "output_type": "stream",
     "text": [
      "Number of even numbers: 15\n",
      "Number of odd numbers: 15\n"
     ]
    }
   ],
   "source": [
    "# Problem 2\n",
    "# Print how many even numbers and how many odd numbers there are in practice_list\n",
    "practice_list = list(range(1,31))\n",
    "even_num = 0\n",
    "odd_num = 0\n",
    "for num in practice_list:\n",
    "    if num % 2 == 0:\n",
    "        even_num += 1\n",
    "    else:\n",
    "        odd_num += 1\n",
    "        \n",
    "print (\"Number of even numbers:\",even_num)\n",
    "print (\"Number of odd numbers:\", odd_num)"
   ]
  },
  {
   "cell_type": "code",
   "execution_count": null,
   "metadata": {},
   "outputs": [],
   "source": [
    "# In the next question, write a loop to print the following pattern:\n",
    "<br>1\n",
    "<br>1 2\n",
    "<br>1 2 3\n",
    "<br>1 2 3 4 5"
   ]
  },
  {
   "cell_type": "code",
   "execution_count": 7,
   "metadata": {},
   "outputs": [
    {
     "name": "stdout",
     "output_type": "stream",
     "text": [
      "1 \r\n",
      "1 2 \r\n",
      "1 2 3 \r\n",
      "1 2 3 4 \r\n",
      "1 2 3 4 5 \r\n"
     ]
    }
   ],
   "source": [
    "# Problem 3\n",
    "# Generate the pattern above\n",
    "def npattern(n):\n",
    "    num = 1\n",
    "    for i in range(0,n):\n",
    "        num = 1\n",
    "        for j in range(0,i + 1):\n",
    "            print (num, end = \" \")\n",
    "            num = num + 1\n",
    "        print(\"\\r\")\n",
    "n = 5\n",
    "npattern(n)"
   ]
  },
  {
   "cell_type": "code",
   "execution_count": 8,
   "metadata": {},
   "outputs": [
    {
     "name": "stdout",
     "output_type": "stream",
     "text": [
      "1 \r\n",
      "1 2 \r\n",
      "1 2 3 \r\n",
      "1 2 3 4 \r\n",
      "1 2 3 4 5 \r\n",
      "1 2 3 4 5 6 \r\n",
      "1 2 3 4 5 6 7 \r\n",
      "1 2 3 4 5 6 7 8 \r\n",
      "1 2 3 4 5 6 7 8 9 \r\n"
     ]
    }
   ],
   "source": [
    "# Problem 2 bonus: can you change your code to make the pattern go up to 9?\n",
    "def npattern(n):\n",
    "    num = 1\n",
    "    for i in range(0,n):\n",
    "        num = 1\n",
    "        for j in range(0,i + 1):\n",
    "            print (num, end = \" \")\n",
    "            num = num + 1\n",
    "        print(\"\\r\")\n",
    "n = 9\n",
    "npattern(n)"
   ]
  },
  {
   "cell_type": "markdown",
   "metadata": {},
   "source": [
    "## Functions\n",
    "\n",
    "Functions can be useful in situations where you find yourself typing the same code over and over again. In the next problem, we have 5 different lists containing a student's name and their grades in four of their classes. You'll need to print each student's name and their average grade. You could repeat the same code for all five students.... but see if you can do it with a function!"
   ]
  },
  {
   "cell_type": "code",
   "execution_count": null,
   "metadata": {},
   "outputs": [],
   "source": [
    "# Don't change this block of code\n",
    "student_1 = ['Erica', 97, 95, 69, 77]\n",
    "student_2 = ['Jim', 70, 89, 83, 70]\n",
    "student_3 = ['Alex', 69, 86, 87, 65]\n",
    "student_4 = ['Lauren', 81, 86, 87, 65]\n",
    "student_5 = ['Dana', 84, 74, 84, 70]"
   ]
  },
  {
   "cell_type": "code",
   "execution_count": 16,
   "metadata": {},
   "outputs": [
    {
     "ename": "TypeError",
     "evalue": "unsupported operand type(s) for +: 'int' and 'str'",
     "output_type": "error",
     "traceback": [
      "\u001b[1;31m---------------------------------------------------------------------------\u001b[0m",
      "\u001b[1;31mTypeError\u001b[0m                                 Traceback (most recent call last)",
      "\u001b[1;32m<ipython-input-16-6069cf2ab57e>\u001b[0m in \u001b[0;36m<module>\u001b[1;34m\u001b[0m\n\u001b[0;32m      8\u001b[0m         \u001b[0mprint\u001b[0m\u001b[1;33m(\u001b[0m\u001b[0mstudentname\u001b[0m \u001b[1;33m+\u001b[0m\u001b[1;34m\"has an average score of\"\u001b[0m \u001b[1;33m+\u001b[0m \u001b[0maverage\u001b[0m\u001b[1;33m)\u001b[0m\u001b[1;33m\u001b[0m\u001b[1;33m\u001b[0m\u001b[0m\n\u001b[0;32m      9\u001b[0m \u001b[0mstudent_1\u001b[0m \u001b[1;33m=\u001b[0m \u001b[1;33m[\u001b[0m\u001b[1;34m'Erica'\u001b[0m\u001b[1;33m,\u001b[0m \u001b[1;36m97\u001b[0m\u001b[1;33m,\u001b[0m \u001b[1;36m95\u001b[0m\u001b[1;33m,\u001b[0m \u001b[1;36m69\u001b[0m\u001b[1;33m,\u001b[0m \u001b[1;36m77\u001b[0m\u001b[1;33m]\u001b[0m\u001b[1;33m\u001b[0m\u001b[1;33m\u001b[0m\u001b[0m\n\u001b[1;32m---> 10\u001b[1;33m \u001b[0mgradeslist\u001b[0m\u001b[1;33m(\u001b[0m\u001b[0mstudent_1\u001b[0m\u001b[1;33m)\u001b[0m\u001b[1;33m\u001b[0m\u001b[1;33m\u001b[0m\u001b[0m\n\u001b[0m\u001b[0;32m     11\u001b[0m \u001b[1;31m#studentname = student_1[0]\u001b[0m\u001b[1;33m\u001b[0m\u001b[1;33m\u001b[0m\u001b[1;33m\u001b[0m\u001b[0m\n\u001b[0;32m     12\u001b[0m \u001b[1;31m#grades = student_1[1: ]\u001b[0m\u001b[1;33m\u001b[0m\u001b[1;33m\u001b[0m\u001b[1;33m\u001b[0m\u001b[0m\n",
      "\u001b[1;32m<ipython-input-16-6069cf2ab57e>\u001b[0m in \u001b[0;36mgradeslist\u001b[1;34m(student)\u001b[0m\n\u001b[0;32m      5\u001b[0m         \u001b[0mstudentname\u001b[0m \u001b[1;33m=\u001b[0m \u001b[0mstr\u001b[0m\u001b[1;33m(\u001b[0m\u001b[0mi\u001b[0m\u001b[1;33m[\u001b[0m\u001b[1;36m0\u001b[0m\u001b[1;33m]\u001b[0m\u001b[1;33m)\u001b[0m\u001b[1;33m\u001b[0m\u001b[1;33m\u001b[0m\u001b[0m\n\u001b[0;32m      6\u001b[0m         \u001b[0mgrades\u001b[0m \u001b[1;33m=\u001b[0m \u001b[0mi\u001b[0m\u001b[1;33m[\u001b[0m\u001b[1;36m1\u001b[0m\u001b[1;33m:\u001b[0m \u001b[1;33m]\u001b[0m\u001b[1;33m\u001b[0m\u001b[1;33m\u001b[0m\u001b[0m\n\u001b[1;32m----> 7\u001b[1;33m         \u001b[0maverage\u001b[0m \u001b[1;33m=\u001b[0m \u001b[0mstr\u001b[0m\u001b[1;33m(\u001b[0m\u001b[0msum\u001b[0m\u001b[1;33m(\u001b[0m\u001b[0mgrades\u001b[0m\u001b[1;33m)\u001b[0m\u001b[1;33m/\u001b[0m\u001b[0mlen\u001b[0m\u001b[1;33m(\u001b[0m\u001b[0mgrades\u001b[0m\u001b[1;33m)\u001b[0m\u001b[1;33m)\u001b[0m\u001b[1;33m\u001b[0m\u001b[1;33m\u001b[0m\u001b[0m\n\u001b[0m\u001b[0;32m      8\u001b[0m         \u001b[0mprint\u001b[0m\u001b[1;33m(\u001b[0m\u001b[0mstudentname\u001b[0m \u001b[1;33m+\u001b[0m\u001b[1;34m\"has an average score of\"\u001b[0m \u001b[1;33m+\u001b[0m \u001b[0maverage\u001b[0m\u001b[1;33m)\u001b[0m\u001b[1;33m\u001b[0m\u001b[1;33m\u001b[0m\u001b[0m\n\u001b[0;32m      9\u001b[0m \u001b[0mstudent_1\u001b[0m \u001b[1;33m=\u001b[0m \u001b[1;33m[\u001b[0m\u001b[1;34m'Erica'\u001b[0m\u001b[1;33m,\u001b[0m \u001b[1;36m97\u001b[0m\u001b[1;33m,\u001b[0m \u001b[1;36m95\u001b[0m\u001b[1;33m,\u001b[0m \u001b[1;36m69\u001b[0m\u001b[1;33m,\u001b[0m \u001b[1;36m77\u001b[0m\u001b[1;33m]\u001b[0m\u001b[1;33m\u001b[0m\u001b[1;33m\u001b[0m\u001b[0m\n",
      "\u001b[1;31mTypeError\u001b[0m: unsupported operand type(s) for +: 'int' and 'str'"
     ]
    }
   ],
   "source": [
    "#Problem 2\n",
    "#For all five students, print \"[Student name] has an average score of [average grade]\"\n",
    "def gradeslist(student):\n",
    "    for i in student:\n",
    "        studentname = str(i[0])\n",
    "        grades = i[1: ]\n",
    "        average = str(sum(grades)/len(grades))\n",
    "        print(studentname +\"has an average score of\" + average)\n",
    "student_1 = ['Erica', 97, 95, 69, 77]\n",
    "gradeslist(student_1)\n",
    "#studentname = student_1[0]\n",
    "#grades = student_1[1: ]\n",
    "#average= sum(grades)/len(grades)\n",
    "#print(studentname + \" has an average score of \" + str(average))"
   ]
  },
  {
   "cell_type": "markdown",
   "metadata": {},
   "source": [
    "# Let's try a function to check if a year is a leap year.\n",
    "\n",
    "In the Gregorian calendar, three conditions are used to identify leap years:\n",
    "* The year can be evenly divided by 4, is a leap year, unless:\n",
    "* The year can be evenly divided by 100, it is NOT a leap year, unless:\n",
    "* The year is also evenly divisible by 400. Then it is a leap year.\n",
    "\n",
    "This means that in the Gregorian calendar, the years 2000 and 2400 are leap years, while 1800, 1900, 2100, 2200, 2300 and 2500 are NOT leap years. In the next problem, you'll write a function that determines whether a given year is a leap year.\n"
   ]
  },
  {
   "cell_type": "code",
   "execution_count": 14,
   "metadata": {},
   "outputs": [
    {
     "name": "stdout",
     "output_type": "stream",
     "text": [
      "1972 is a leap year.\n",
      "1982 is not a leap year.\n",
      "1988 is a leap year.\n",
      "1994 is not a leap year.\n",
      "2000 is a leap year.\n"
     ]
    }
   ],
   "source": [
    "# Write a function that checks if a year is a leap year. \n",
    "# Find out if 1972, 1982, 1988, 1994, and 2000 were leap years.\n",
    "def isleapyear(n):\n",
    "    if n % 4 == 0 and n % 100 != 0 or n % 400 == 0:\n",
    "        print (n, \"is a leap year.\")\n",
    "    else:\n",
    "        print (n, \"is not a leap year.\")\n",
    "isleapyear(1972)   \n",
    "isleapyear(1982)\n",
    "isleapyear(1988)\n",
    "isleapyear(1994)\n",
    "isleapyear(2000)"
   ]
  },
  {
   "cell_type": "markdown",
   "metadata": {},
   "source": [
    "If you got your function to work and asked a friend (or Google) if your answers were correct, good news! Your function and your knowledge of loops are both about to come in handy."
   ]
  },
  {
   "cell_type": "code",
   "execution_count": 17,
   "metadata": {},
   "outputs": [
    {
     "name": "stdout",
     "output_type": "stream",
     "text": [
      "1904\n",
      "1908\n",
      "1912\n",
      "1916\n",
      "1920\n",
      "1924\n",
      "1928\n",
      "1932\n",
      "1936\n",
      "1940\n",
      "1944\n",
      "1948\n",
      "1952\n",
      "1956\n",
      "1960\n",
      "1964\n",
      "1968\n",
      "1972\n",
      "1976\n",
      "1980\n",
      "1984\n",
      "1988\n",
      "1992\n",
      "1996\n",
      "2000\n",
      "2004\n",
      "2008\n",
      "2012\n",
      "2016\n",
      "2020\n"
     ]
    }
   ],
   "source": [
    "# Make a list called leap_years that contains every leap year from 1900 to 2020\n",
    "for n in range (1900, 2021):\n",
    "    if n % 4 == 0 and n % 100 != 0 or n % 400 == 0:\n",
    "        print (n)\n",
    "    "
   ]
  },
  {
   "cell_type": "markdown",
   "metadata": {},
   "source": [
    "## Classes"
   ]
  },
  {
   "cell_type": "code",
   "execution_count": null,
   "metadata": {},
   "outputs": [],
   "source": []
  }
 ],
 "metadata": {
  "kernelspec": {
   "display_name": "Python 3",
   "language": "python",
   "name": "python3"
  },
  "language_info": {
   "codemirror_mode": {
    "name": "ipython",
    "version": 3
   },
   "file_extension": ".py",
   "mimetype": "text/x-python",
   "name": "python",
   "nbconvert_exporter": "python",
   "pygments_lexer": "ipython3",
   "version": "3.8.5"
  }
 },
 "nbformat": 4,
 "nbformat_minor": 4
}
